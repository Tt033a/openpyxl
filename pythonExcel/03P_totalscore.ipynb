{
 "cells": [
  {
   "cell_type": "code",
   "execution_count": 1,
   "id": "8d7da63b",
   "metadata": {},
   "outputs": [
    {
     "data": {
      "image/png": "[encoded data removed]",
      "text/plain": [
       "<IPython.core.display.Image object>"
      ]
     },
     "execution_count": 1,
     "metadata": {
      "image/png": {
       "height": 300,
       "width": 300
      }
     },
     "output_type": "execute_result"
    }
   ],
   "source": [
    "#列表汇总总文件\n",
    "from IPython.display import Image\n",
    "Image(filename=\"Pict/1-1.png\",width=300,height=300)\n",
    "#拆分、求和"
   ]
  },
  {
   "cell_type": "code",
   "execution_count": 2,
   "id": "b475c7a8",
   "metadata": {},
   "outputs": [
    {
     "name": "stdout",
     "output_type": "stream",
     "text": [
      "[['张三', '语文-88-数学-80-英语-70'], ['李四', '语文-88-政治-80-英语-90'], ['王五', '数学-80-英语-90-政治-60']]\n"
     ]
    }
   ],
   "source": [
    "import openpyxl\n",
    "wb=openpyxl.load_workbook(\"data/01_grade0.xlsx\")#读取工作簿\n",
    "ws=wb[\"成绩\"]#读取表\n",
    "rng=ws[str(ws.min_row+1):str(ws.max_row)]#动态获取单元格区域 ps 静态获取ws[2:4]第二行到第四行\n",
    "print([[c.value for c in row] for row in rng])"
   ]
  },
  {
   "cell_type": "code",
   "execution_count": 3,
   "id": "07269a90",
   "metadata": {},
   "outputs": [
    {
     "name": "stdout",
     "output_type": "stream",
     "text": [
      "(<Cell '成绩'.A2>, <Cell '成绩'.B2>)\n",
      "l0: ['语文', '88', '数学', '80', '英语', '70']\n",
      "l: ['88', '80', '70']\n",
      "238\n",
      "(<Cell '成绩'.A3>, <Cell '成绩'.B3>)\n",
      "l0: ['语文', '88', '政治', '80', '英语', '90']\n",
      "l: ['88', '80', '90']\n",
      "258\n",
      "(<Cell '成绩'.A4>, <Cell '成绩'.B4>)\n",
      "l0: ['数学', '80', '英语', '90', '政治', '60']\n",
      "l: ['80', '90', '60']\n",
      "230\n",
      "[['张三', 238], ['李四', 258], ['王五', 230]]\n"
     ]
    }
   ],
   "source": [
    "#计算总分法一\n",
    "sl=[]\n",
    "for rn in rng:\n",
    "    Sum=0\n",
    "    print(rn)\n",
    "    st=rn[1].value\n",
    "    l0=st.split(\"-\")\n",
    "    print(\"l0:\",l0)\n",
    "    l=st.split(\"-\")[1::2]\n",
    "    print(\"l:\",l)\n",
    "    for s in l:\n",
    "        Sum+=int(s)\n",
    "    print(Sum)\n",
    "    sl.append([rn[0].value,Sum])\n",
    "print(sl)\n",
    "\n",
    "#创建新表保存结果\n",
    "ws1=wb.create_sheet(title='总分')\n",
    "ws1.append([\"姓名\",\"总分\"])#写入表头\n",
    "for s in sl:\n",
    "    ws1.append(s)\n",
    "wb.save('data/01_test1.xlsx')"
   ]
  },
  {
   "cell_type": "code",
   "execution_count": 4,
   "id": "36c60261",
   "metadata": {},
   "outputs": [
    {
     "name": "stdout",
     "output_type": "stream",
     "text": [
      "{'张三': {'语文': 88, '数学': 80, '英语': 70}, '李四': {'语文': 88, '政治': 80, '英语': 90}, '王五': {'数学': 80, '英语': 90, '政治': 60}} ['姓名', '数学', '英语', '语文', '政治']\n"
     ]
    }
   ],
   "source": [
    "#整理表格数据并且计算总分\n",
    "#获得各科成绩\n",
    "ws2=wb.create_sheet(title='各课成绩')\n",
    "K=[]\n",
    "DIC={}\n",
    "for rn in rng:\n",
    "    dic={}\n",
    "    st=rn[1].value\n",
    "    l=st.split(\"-\")\n",
    "    i=0\n",
    "    keyl=[]\n",
    "    while i<len(l):\n",
    "        dic.update({l[i]:int(l[i+1])})\n",
    "        i+=2\n",
    "        keyl=list(dic.keys())\n",
    "        for key in keyl:\n",
    "            K.append(key)\n",
    "    DIC.update({rn[0].value:dic})\n",
    "K=list(set(K))\n",
    "K.insert(0,'姓名')#在指定位置插入元素\n",
    "print(DIC,K)\n",
    "ws2.append(K)\n",
    "for names in list(DIC.keys()):\n",
    "    for i in K:\n",
    "        if i not in DIC[names].keys():\n",
    "            DIC[names].update({i:0})\n",
    "    ws2.append([names,DIC[names][K[1]],DIC[names][K[2]],DIC[names][K[3]],DIC[names][K[4]]])\n",
    "    \n",
    "\n",
    "#计算总分\n",
    "ws3=wb.create_sheet(title='总分1')\n",
    "rng1=ws2[str(ws.min_row+1):str(ws.max_row)]\n",
    "l_a=[[c.value for c in row] [1:]for row in rng1]\n",
    "rngs1=[[rn[0].value,sum([c.value for c in rn][1:])]for rn in rng1]#从每行第二个cell开始\n",
    "ws3.append(['姓名','总分数'])\n",
    "for line in rngs1:\n",
    "    ws3.append(line)\n",
    "\n",
    "wb.save(\"data/01_test2.xlsx\")\n"
   ]
  },
  {
   "cell_type": "code",
   "execution_count": 5,
   "id": "25418aa3",
   "metadata": {},
   "outputs": [],
   "source": [
    "\n"
   ]
  },
  {
   "cell_type": "code",
   "execution_count": 9,
   "id": "85541382",
   "metadata": {},
   "outputs": [
    {
     "name": "stdout",
     "output_type": "stream",
     "text": [
      "6\n"
     ]
    }
   ],
   "source": []
  },
  {
   "cell_type": "code",
   "execution_count": null,
   "id": "209345bb",
   "metadata": {},
   "outputs": [],
   "source": []
  },
  {
   "cell_type": "code",
   "execution_count": null,
   "id": "c4979717",
   "metadata": {},
   "outputs": [],
   "source": []
  }
 ],
 "metadata": {
  "kernelspec": {
   "display_name": "Python 3 (ipykernel)",
   "language": "python",
   "name": "python3"
  },
  "language_info": {
   "codemirror_mode": {
    "name": "ipython",
    "version": 3
   },
   "file_extension": ".py",
   "mimetype": "text/x-python",
   "name": "python",
   "nbconvert_exporter": "python",
   "pygments_lexer": "ipython3",
   "version": "3.9.13"
  }
 },
 "nbformat": 4,
 "nbformat_minor": 5
}
